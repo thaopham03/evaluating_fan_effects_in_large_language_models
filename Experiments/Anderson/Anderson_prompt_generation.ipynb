{
  "cells": [
    {
      "cell_type": "markdown",
      "metadata": {
        "colab_type": "text",
        "id": "view-in-github"
      },
      "source": [
        "<a href=\"https://colab.research.google.com/github/thaopham03/evaluating_fan_effects_in_large_language_models/blob/main/Anderson_Experimental_Design.ipynb\" target=\"_parent\"><img src=\"https://colab.research.google.com/assets/colab-badge.svg\" alt=\"Open In Colab\"/></a>"
      ]
    },
    {
      "cell_type": "code",
      "execution_count": 55,
      "metadata": {
        "id": "juaSbpbBF8EH"
      },
      "outputs": [],
      "source": [
        "import pandas as pd\n",
        "import numpy as np\n",
        "import random\n",
        "import os"
      ]
    },
    {
      "cell_type": "code",
      "execution_count": 2,
      "metadata": {
        "colab": {
          "base_uri": "https://localhost:8080/"
        },
        "id": "RqCUwOrr2lES",
        "outputId": "d98aa41a-d9dd-46fd-be4c-d4f172b3c011"
      },
      "outputs": [
        {
          "name": "stdout",
          "output_type": "stream",
          "text": [
            "Mounted at /content/drive\n"
          ]
        }
      ],
      "source": [
        "# Mount Google Drive\n",
        "from google.colab import drive\n",
        "drive.mount('/content/drive')"
      ]
    },
    {
      "cell_type": "code",
      "execution_count": 56,
      "metadata": {},
      "outputs": [],
      "source": [
        "people_path = './data/People.csv'\n",
        "places_path = './data/Places.csv'\n",
        "output_dir = './data/'\n",
        "\n",
        "inst_preamble = \"Following is a list of sentences. \"\n",
        "fact_sep = '. '\n",
        "fact_format = 'A {} is in the {}'\n",
        "\n",
        "target_stimuli = ['present', 'absent']"
      ]
    },
    {
      "cell_type": "code",
      "execution_count": 59,
      "metadata": {
        "id": "amgxbmrJF4Qy"
      },
      "outputs": [],
      "source": [
        "# Load the CSV files\n",
        "people = pd.read_csv(people_path)['People']\n",
        "place = pd.read_csv(places_path)['Place']\n",
        "probabilities_path = os.path.join(output_dir, 'probabilities.csv')\n",
        "prompts_path = os.path.join(output_dir, 'prompts.csv')\n",
        "# Ensure the output directory exists\n",
        "os.makedirs(output_dir, exist_ok=True)\n",
        "\n",
        "\n",
        "\n",
        "# Function to compute softmax values\n",
        "def softmax(values):\n",
        "    exp_values = np.exp(values - np.max(values))\n",
        "    return exp_values / exp_values.sum()\n",
        "\n",
        "# Function to generate Gaussian and softmax values for people and places\n",
        "def generate_probabilities(people, places):\n",
        "    people_gauss = {person: random.gauss(0, 1) for person in people}\n",
        "    place_gauss = {place: random.gauss(0, 1) for place in places}\n",
        "    people_softmax = softmax(np.array(list(people_gauss.values())))\n",
        "    place_softmax = softmax(np.array(list(place_gauss.values())))\n",
        "    people_probs = dict(zip(people, people_softmax))\n",
        "    place_probs = dict(zip(places, place_softmax))\n",
        "    return people_probs, place_probs\n",
        "\n"
      ]
    },
    {
      "cell_type": "code",
      "execution_count": 60,
      "metadata": {
        "id": "CjjGhohsGYQi"
      },
      "outputs": [],
      "source": [
        "# Function to generate objects set\n",
        "def generate_objects(people, places, people_probs, place_probs, max_sentences, randomized):\n",
        "    objects = set()\n",
        "    if randomized:\n",
        "        while len(objects) < max_sentences:\n",
        "            person = random.choices(list(people_probs.keys()), weights=list(people_probs.values()))[0]\n",
        "            place = random.choices(list(place_probs.keys()), weights=list(place_probs.values()))[0]\n",
        "            objects.add((person, place))\n",
        "    else:\n",
        "        lowercase_letters = 'abcdefghijklmnor'\n",
        "        uppercase_letters = 'ABCDEFGHIJKLMNOR'\n",
        "        people_dict = {lowercase_letters[i]: people[i] for i in range(len(lowercase_letters))}\n",
        "        places_dict = {uppercase_letters[i]: places[i] for i in range(len(uppercase_letters))}\n",
        "        predefined_pairs = {\n",
        "            ('a', 'A'), ('b', 'B'), ('c', 'C'), ('d', 'D'), ('e', 'E'), ('f', 'F'), ('g', 'G'), ('h', 'H'),\n",
        "            ('i', 'I'), ('j', 'J'), ('k', 'K'), ('l', 'L'), ('e', 'K'), ('r', 'R'), ('g', 'J'), ('h', 'R'),\n",
        "            ('i', 'L'), ('m', 'M'), ('n', 'N'), ('o', 'O'), ('d', 'M'), ('r', 'N'), ('f', 'O'), ('g', 'M'),\n",
        "            ('h', 'N'), ('i', 'O')\n",
        "        }\n",
        "        objects = {(people_dict[p], places_dict[l]) for p, l in predefined_pairs}\n",
        "    return objects\n",
        "\n",
        "\n",
        "\n",
        "# Function to generate prompts\n",
        "def generate_prompts(objects):\n",
        "    prompt = inst_preamble + fact_sep.join([fact_format.format(obj[0], obj[1]) for obj in objects])\n",
        "    return prompt\n",
        "\n",
        "\n",
        "# Function to print objects and prompts\n",
        "def print_objects_and_prompts(objects, prompt):\n",
        "    print(\"Objects:\", objects)\n",
        "    print(\"Prompts:\", prompt)\n",
        "\n",
        "\n",
        "\n"
      ]
    },
    {
      "cell_type": "code",
      "execution_count": 61,
      "metadata": {
        "collapsed": true,
        "id": "vnIDLpp2GuOk"
      },
      "outputs": [],
      "source": [
        "# Function to calculate fan value\n",
        "def fan(x, objects, index=None):\n",
        "    if index is not None:\n",
        "        return sum(1 for obj in objects if obj[index] == x) / len(objects)\n",
        "    else:\n",
        "        return sum(1 for obj in objects if x in obj) / len(objects)\n",
        "\n",
        "\n",
        "# Function to print fan values\n",
        "def print_fan_values(objects):\n",
        "    for obj in objects:\n",
        "        person, plc = obj\n",
        "        fan_person = fan(person, objects)\n",
        "        fan_place = fan(plc, objects)\n",
        "        print('The sentence \"{}\" has fan values: person: {}, place: {}'.format(fact_format.format(person,plc), fan_person, fan_place))"
      ]
    },
    {
      "cell_type": "code",
      "execution_count": 62,
      "metadata": {
        "id": "L0QnOr1dyJOd"
      },
      "outputs": [],
      "source": [
        "# Function to generate final data and save to CSV\n",
        "def generate_and_save_data(people, places, objects, prompt, path, randomized):\n",
        "    data = []\n",
        "\n",
        "    base_prompt = f'{prompt}{fact_sep}' + f'Sentence 1 is \"{fact_format}\". In the previous list, Sentence 1 is '\n",
        "    for stim in target_stimuli:\n",
        "        for person in people:\n",
        "            for place in places:\n",
        "                fan_person = fan(person, objects, 0 if not randomized else None)\n",
        "                fan_place = fan(place, objects, 1 if not randomized else None)\n",
        "                true_category = \"present\" if (person, place) in objects else \"absent\"\n",
        "                # Combine prompt and preamble\n",
        "                final_sentence = base_prompt.format(person, place)\n",
        "                data.append([final_sentence, person, fan_person, place, fan_place, stim, true_category])\n",
        "    new_prompts_df = pd.DataFrame(data, columns=['Preamble', 'Person', 'Fan_Person', 'Place', 'Fan_Place', 'Dependent_Variable', 'True_Category'])\n",
        "    new_prompts_df.to_csv(path, index=False, sep = '|' )\n",
        "    print(\"New Prompts Data:\")\n",
        "    print(new_prompts_df)\n",
        "\n"
      ]
    },
    {
      "cell_type": "code",
      "execution_count": 64,
      "metadata": {
        "colab": {
          "base_uri": "https://localhost:8080/"
        },
        "id": "YNIP9Vfq8A61",
        "outputId": "b54bb8d9-ec32-4255-cf9b-514f0a9f8b55"
      },
      "outputs": [],
      "source": [
        "# Main function to run experiments\n",
        "def run_experiment(people_path, places_path, output_dir, max_sentences=50, randomized=True):\n",
        "    people = pd.read_csv(people_path)['People']\n",
        "    places = pd.read_csv(places_path)['Place']\n",
        "    probabilities_path = os.path.join(output_dir, 'probabilities.csv')\n",
        "    prompts_path = os.path.join(output_dir, 'prompts.csv')\n",
        "    if randomized:\n",
        "        people_probs, place_probs = generate_probabilities(people, places)\n",
        "    else:\n",
        "        people_probs, place_probs = None, None\n",
        "    objects = generate_objects(people, places, people_probs, place_probs, max_sentences, randomized)\n",
        "    prompt = generate_prompts(objects)\n",
        "    print_objects_and_prompts(objects, prompt)\n",
        "    print_fan_values(objects)  # Print fan values\n",
        "    new_prompts_path = os.path.join(output_dir, 'random.csv' if randomized else 'anderson_true.csv')\n",
        "    generate_and_save_data(people, places, objects, prompt, new_prompts_path, randomized)"
      ]
    },
    {
      "cell_type": "code",
      "execution_count": 65,
      "metadata": {},
      "outputs": [
        {
          "name": "stdout",
          "output_type": "stream",
          "text": [
            "Objects: {('Clerk', 'Courthouse'), ('Clerk', 'Hotel'), ('Journalist', 'Hotel'), ('Pastor', 'Courthouse'), ('Chef', 'Police Station'), ('Pastor', 'Hotel'), ('Writer', 'Hotel'), ('Builder', 'Hotel'), ('Clerk', 'Bank'), ('Doctor', 'Studio'), ('Artist', 'Police Station'), ('Doctor', 'Church'), ('Pastor', 'Bank'), ('Pastor', 'Restaurant'), ('Writer', 'Bank'), ('Chef', 'Church'), ('Pastor', 'University'), ('Architect', 'Farm'), ('Doctor', 'Library'), ('Clerk', 'Police Station'), ('Pharmacist', 'Hotel'), ('Journalist', 'Police Station'), ('Artist', 'Office Building'), ('Clerk', 'Laboratory'), ('Doctor', 'Park'), ('Clerk', 'Studio'), ('Clerk', 'Church'), ('Librarian', 'Bank'), ('Journalist', 'Studio'), ('Architect', 'Laboratory'), ('Doctor', 'Hotel'), ('Journalist', 'Church'), ('Pastor', 'Church'), ('Clerk', 'Construction Site'), ('Clerk', 'Library'), ('Writer', 'Pharmacy'), ('Doctor', 'Bank'), ('Doctor', 'University'), ('Electrician', 'Studio'), ('Police Officer', 'Restaurant'), ('Teacher', 'Police Station'), ('Chef', 'Bank'), ('Nurse', 'Police Station'), ('Chef', 'Farm'), ('Clerk', 'Hospital'), ('Clerk', 'Agency'), ('Artist', 'Restaurant'), ('Clerk', 'School'), ('Librarian', 'Studio'), ('Pastor', 'Park')}\n",
            "Prompts: Following is a list of sentences. A Clerk is in the Courthouse. A Clerk is in the Hotel. A Journalist is in the Hotel. A Pastor is in the Courthouse. A Chef is in the Police Station. A Pastor is in the Hotel. A Writer is in the Hotel. A Builder is in the Hotel. A Clerk is in the Bank. A Doctor is in the Studio. A Artist is in the Police Station. A Doctor is in the Church. A Pastor is in the Bank. A Pastor is in the Restaurant. A Writer is in the Bank. A Chef is in the Church. A Pastor is in the University. A Architect is in the Farm. A Doctor is in the Library. A Clerk is in the Police Station. A Pharmacist is in the Hotel. A Journalist is in the Police Station. A Artist is in the Office Building. A Clerk is in the Laboratory. A Doctor is in the Park. A Clerk is in the Studio. A Clerk is in the Church. A Librarian is in the Bank. A Journalist is in the Studio. A Architect is in the Laboratory. A Doctor is in the Hotel. A Journalist is in the Church. A Pastor is in the Church. A Clerk is in the Construction Site. A Clerk is in the Library. A Writer is in the Pharmacy. A Doctor is in the Bank. A Doctor is in the University. A Electrician is in the Studio. A Police Officer is in the Restaurant. A Teacher is in the Police Station. A Chef is in the Bank. A Nurse is in the Police Station. A Chef is in the Farm. A Clerk is in the Hospital. A Clerk is in the Agency. A Artist is in the Restaurant. A Clerk is in the School. A Librarian is in the Studio. A Pastor is in the Park\n",
            "The sentence \"A Clerk is in the Courthouse\" has fan values: person: 0.24, place: 0.04\n",
            "The sentence \"A Clerk is in the Hotel\" has fan values: person: 0.24, place: 0.14\n",
            "The sentence \"A Journalist is in the Hotel\" has fan values: person: 0.08, place: 0.14\n",
            "The sentence \"A Pastor is in the Courthouse\" has fan values: person: 0.14, place: 0.04\n",
            "The sentence \"A Chef is in the Police Station\" has fan values: person: 0.08, place: 0.12\n",
            "The sentence \"A Pastor is in the Hotel\" has fan values: person: 0.14, place: 0.14\n",
            "The sentence \"A Writer is in the Hotel\" has fan values: person: 0.06, place: 0.14\n",
            "The sentence \"A Builder is in the Hotel\" has fan values: person: 0.02, place: 0.14\n",
            "The sentence \"A Clerk is in the Bank\" has fan values: person: 0.24, place: 0.12\n",
            "The sentence \"A Doctor is in the Studio\" has fan values: person: 0.14, place: 0.1\n",
            "The sentence \"A Artist is in the Police Station\" has fan values: person: 0.06, place: 0.12\n",
            "The sentence \"A Doctor is in the Church\" has fan values: person: 0.14, place: 0.1\n",
            "The sentence \"A Pastor is in the Bank\" has fan values: person: 0.14, place: 0.12\n",
            "The sentence \"A Pastor is in the Restaurant\" has fan values: person: 0.14, place: 0.06\n",
            "The sentence \"A Writer is in the Bank\" has fan values: person: 0.06, place: 0.12\n",
            "The sentence \"A Chef is in the Church\" has fan values: person: 0.08, place: 0.1\n",
            "The sentence \"A Pastor is in the University\" has fan values: person: 0.14, place: 0.04\n",
            "The sentence \"A Architect is in the Farm\" has fan values: person: 0.04, place: 0.04\n",
            "The sentence \"A Doctor is in the Library\" has fan values: person: 0.14, place: 0.04\n",
            "The sentence \"A Clerk is in the Police Station\" has fan values: person: 0.24, place: 0.12\n",
            "The sentence \"A Pharmacist is in the Hotel\" has fan values: person: 0.02, place: 0.14\n",
            "The sentence \"A Journalist is in the Police Station\" has fan values: person: 0.08, place: 0.12\n",
            "The sentence \"A Artist is in the Office Building\" has fan values: person: 0.06, place: 0.02\n",
            "The sentence \"A Clerk is in the Laboratory\" has fan values: person: 0.24, place: 0.04\n",
            "The sentence \"A Doctor is in the Park\" has fan values: person: 0.14, place: 0.04\n",
            "The sentence \"A Clerk is in the Studio\" has fan values: person: 0.24, place: 0.1\n",
            "The sentence \"A Clerk is in the Church\" has fan values: person: 0.24, place: 0.1\n",
            "The sentence \"A Librarian is in the Bank\" has fan values: person: 0.04, place: 0.12\n",
            "The sentence \"A Journalist is in the Studio\" has fan values: person: 0.08, place: 0.1\n",
            "The sentence \"A Architect is in the Laboratory\" has fan values: person: 0.04, place: 0.04\n",
            "The sentence \"A Doctor is in the Hotel\" has fan values: person: 0.14, place: 0.14\n",
            "The sentence \"A Journalist is in the Church\" has fan values: person: 0.08, place: 0.1\n",
            "The sentence \"A Pastor is in the Church\" has fan values: person: 0.14, place: 0.1\n",
            "The sentence \"A Clerk is in the Construction Site\" has fan values: person: 0.24, place: 0.02\n",
            "The sentence \"A Clerk is in the Library\" has fan values: person: 0.24, place: 0.04\n",
            "The sentence \"A Writer is in the Pharmacy\" has fan values: person: 0.06, place: 0.02\n",
            "The sentence \"A Doctor is in the Bank\" has fan values: person: 0.14, place: 0.12\n",
            "The sentence \"A Doctor is in the University\" has fan values: person: 0.14, place: 0.04\n",
            "The sentence \"A Electrician is in the Studio\" has fan values: person: 0.02, place: 0.1\n",
            "The sentence \"A Police Officer is in the Restaurant\" has fan values: person: 0.02, place: 0.06\n",
            "The sentence \"A Teacher is in the Police Station\" has fan values: person: 0.02, place: 0.12\n",
            "The sentence \"A Chef is in the Bank\" has fan values: person: 0.08, place: 0.12\n",
            "The sentence \"A Nurse is in the Police Station\" has fan values: person: 0.02, place: 0.12\n",
            "The sentence \"A Chef is in the Farm\" has fan values: person: 0.08, place: 0.04\n",
            "The sentence \"A Clerk is in the Hospital\" has fan values: person: 0.24, place: 0.02\n",
            "The sentence \"A Clerk is in the Agency\" has fan values: person: 0.24, place: 0.02\n",
            "The sentence \"A Artist is in the Restaurant\" has fan values: person: 0.06, place: 0.06\n",
            "The sentence \"A Clerk is in the School\" has fan values: person: 0.24, place: 0.02\n",
            "The sentence \"A Librarian is in the Studio\" has fan values: person: 0.04, place: 0.1\n",
            "The sentence \"A Pastor is in the Park\" has fan values: person: 0.14, place: 0.04\n",
            "New Prompts Data:\n",
            "                                              Preamble   Person  Fan_Person  \\\n",
            "0    Following is a list of sentences. A Clerk is i...   Doctor        0.14   \n",
            "1    Following is a list of sentences. A Clerk is i...   Doctor        0.14   \n",
            "2    Following is a list of sentences. A Clerk is i...   Doctor        0.14   \n",
            "3    Following is a list of sentences. A Clerk is i...   Doctor        0.14   \n",
            "4    Following is a list of sentences. A Clerk is i...   Doctor        0.14   \n",
            "..                                                 ...      ...         ...   \n",
            "795  Following is a list of sentences. A Clerk is i...  Builder        0.02   \n",
            "796  Following is a list of sentences. A Clerk is i...  Builder        0.02   \n",
            "797  Following is a list of sentences. A Clerk is i...  Builder        0.02   \n",
            "798  Following is a list of sentences. A Clerk is i...  Builder        0.02   \n",
            "799  Following is a list of sentences. A Clerk is i...  Builder        0.02   \n",
            "\n",
            "          Place  Fan_Place Dependent_Variable True_Category  \n",
            "0      Hospital       0.02            present        absent  \n",
            "1          Park       0.04            present       present  \n",
            "2          Farm       0.04            present        absent  \n",
            "3        Church       0.10            present       present  \n",
            "4        School       0.02            present        absent  \n",
            "..          ...        ...                ...           ...  \n",
            "795  Laboratory       0.04             absent        absent  \n",
            "796      Clinic       0.00             absent        absent  \n",
            "797      Studio       0.10             absent        absent  \n",
            "798     Factory       0.00             absent        absent  \n",
            "799      Agency       0.02             absent        absent  \n",
            "\n",
            "[800 rows x 7 columns]\n",
            "Objects: {('Lawyer', 'Laboratory'), ('Pastor', 'Courthouse'), ('Pharmacist', 'Office Building'), ('Accountant', 'Office Building'), ('Nurse', 'Library'), ('Clerk', 'Farm'), ('Journalist', 'University'), ('Electrician', 'Courthouse'), ('Teacher', 'Park'), ('Police Officer', 'Pharmacy'), ('Police Officer', 'Construction Site'), ('Accountant', 'School'), ('Engineer', 'Bank'), ('Nurse', 'Hotel'), ('Chef', 'Library'), ('Nurse', 'Courthouse'), ('Engineer', 'University'), ('Psychologist', 'Police Station'), ('Doctor', 'Hospital'), ('Pastor', 'Church'), ('Lawyer', 'Restaurant'), ('Psychologist', 'Laboratory'), ('Architect', 'Pharmacy'), ('Lawyer', 'Police Station'), ('Police Officer', 'University'), ('Librarian', 'Police Station')}\n",
            "Prompts: Following is a list of sentences. A Lawyer is in the Laboratory. A Pastor is in the Courthouse. A Pharmacist is in the Office Building. A Accountant is in the Office Building. A Nurse is in the Library. A Clerk is in the Farm. A Journalist is in the University. A Electrician is in the Courthouse. A Teacher is in the Park. A Police Officer is in the Pharmacy. A Police Officer is in the Construction Site. A Accountant is in the School. A Engineer is in the Bank. A Nurse is in the Hotel. A Chef is in the Library. A Nurse is in the Courthouse. A Engineer is in the University. A Psychologist is in the Police Station. A Doctor is in the Hospital. A Pastor is in the Church. A Lawyer is in the Restaurant. A Psychologist is in the Laboratory. A Architect is in the Pharmacy. A Lawyer is in the Police Station. A Police Officer is in the University. A Librarian is in the Police Station\n",
            "The sentence \"A Lawyer is in the Laboratory\" has fan values: person: 0.11538461538461539, place: 0.07692307692307693\n",
            "The sentence \"A Pastor is in the Courthouse\" has fan values: person: 0.07692307692307693, place: 0.11538461538461539\n",
            "The sentence \"A Pharmacist is in the Office Building\" has fan values: person: 0.038461538461538464, place: 0.07692307692307693\n",
            "The sentence \"A Accountant is in the Office Building\" has fan values: person: 0.07692307692307693, place: 0.07692307692307693\n",
            "The sentence \"A Nurse is in the Library\" has fan values: person: 0.11538461538461539, place: 0.07692307692307693\n",
            "The sentence \"A Clerk is in the Farm\" has fan values: person: 0.038461538461538464, place: 0.038461538461538464\n",
            "The sentence \"A Journalist is in the University\" has fan values: person: 0.038461538461538464, place: 0.11538461538461539\n",
            "The sentence \"A Electrician is in the Courthouse\" has fan values: person: 0.038461538461538464, place: 0.11538461538461539\n",
            "The sentence \"A Teacher is in the Park\" has fan values: person: 0.038461538461538464, place: 0.038461538461538464\n",
            "The sentence \"A Police Officer is in the Pharmacy\" has fan values: person: 0.11538461538461539, place: 0.07692307692307693\n",
            "The sentence \"A Police Officer is in the Construction Site\" has fan values: person: 0.11538461538461539, place: 0.038461538461538464\n",
            "The sentence \"A Accountant is in the School\" has fan values: person: 0.07692307692307693, place: 0.038461538461538464\n",
            "The sentence \"A Engineer is in the Bank\" has fan values: person: 0.07692307692307693, place: 0.038461538461538464\n",
            "The sentence \"A Nurse is in the Hotel\" has fan values: person: 0.11538461538461539, place: 0.038461538461538464\n",
            "The sentence \"A Chef is in the Library\" has fan values: person: 0.038461538461538464, place: 0.07692307692307693\n",
            "The sentence \"A Nurse is in the Courthouse\" has fan values: person: 0.11538461538461539, place: 0.11538461538461539\n",
            "The sentence \"A Engineer is in the University\" has fan values: person: 0.07692307692307693, place: 0.11538461538461539\n",
            "The sentence \"A Psychologist is in the Police Station\" has fan values: person: 0.07692307692307693, place: 0.11538461538461539\n",
            "The sentence \"A Doctor is in the Hospital\" has fan values: person: 0.038461538461538464, place: 0.038461538461538464\n",
            "The sentence \"A Pastor is in the Church\" has fan values: person: 0.07692307692307693, place: 0.038461538461538464\n",
            "The sentence \"A Lawyer is in the Restaurant\" has fan values: person: 0.11538461538461539, place: 0.038461538461538464\n",
            "The sentence \"A Psychologist is in the Laboratory\" has fan values: person: 0.07692307692307693, place: 0.07692307692307693\n",
            "The sentence \"A Architect is in the Pharmacy\" has fan values: person: 0.038461538461538464, place: 0.07692307692307693\n",
            "The sentence \"A Lawyer is in the Police Station\" has fan values: person: 0.11538461538461539, place: 0.11538461538461539\n",
            "The sentence \"A Police Officer is in the University\" has fan values: person: 0.11538461538461539, place: 0.11538461538461539\n",
            "The sentence \"A Librarian is in the Police Station\" has fan values: person: 0.038461538461538464, place: 0.11538461538461539\n",
            "New Prompts Data:\n",
            "                                              Preamble   Person  Fan_Person  \\\n",
            "0    Following is a list of sentences. A Lawyer is ...   Doctor    0.038462   \n",
            "1    Following is a list of sentences. A Lawyer is ...   Doctor    0.038462   \n",
            "2    Following is a list of sentences. A Lawyer is ...   Doctor    0.038462   \n",
            "3    Following is a list of sentences. A Lawyer is ...   Doctor    0.038462   \n",
            "4    Following is a list of sentences. A Lawyer is ...   Doctor    0.038462   \n",
            "..                                                 ...      ...         ...   \n",
            "795  Following is a list of sentences. A Lawyer is ...  Builder    0.000000   \n",
            "796  Following is a list of sentences. A Lawyer is ...  Builder    0.000000   \n",
            "797  Following is a list of sentences. A Lawyer is ...  Builder    0.000000   \n",
            "798  Following is a list of sentences. A Lawyer is ...  Builder    0.000000   \n",
            "799  Following is a list of sentences. A Lawyer is ...  Builder    0.000000   \n",
            "\n",
            "          Place  Fan_Place Dependent_Variable True_Category  \n",
            "0      Hospital   0.038462            present       present  \n",
            "1          Park   0.038462            present        absent  \n",
            "2          Farm   0.038462            present        absent  \n",
            "3        Church   0.038462            present        absent  \n",
            "4        School   0.038462            present        absent  \n",
            "..          ...        ...                ...           ...  \n",
            "795  Laboratory   0.076923             absent        absent  \n",
            "796      Clinic   0.000000             absent        absent  \n",
            "797      Studio   0.000000             absent        absent  \n",
            "798     Factory   0.000000             absent        absent  \n",
            "799      Agency   0.000000             absent        absent  \n",
            "\n",
            "[800 rows x 7 columns]\n"
          ]
        }
      ],
      "source": [
        "# Parameters\n",
        "os.makedirs(output_dir, exist_ok=True)\n",
        "\n",
        "# Run both experiments\n",
        "run_experiment(people_path, places_path, output_dir, randomized=True)\n",
        "run_experiment(people_path, places_path, output_dir, randomized=False)"
      ]
    }
  ],
  "metadata": {
    "colab": {
      "include_colab_link": true,
      "provenance": []
    },
    "kernelspec": {
      "display_name": "Python 3",
      "name": "python3"
    },
    "language_info": {
      "codemirror_mode": {
        "name": "ipython",
        "version": 3
      },
      "file_extension": ".py",
      "mimetype": "text/x-python",
      "name": "python",
      "nbconvert_exporter": "python",
      "pygments_lexer": "ipython3",
      "version": "3.11.8"
    }
  },
  "nbformat": 4,
  "nbformat_minor": 0
}
