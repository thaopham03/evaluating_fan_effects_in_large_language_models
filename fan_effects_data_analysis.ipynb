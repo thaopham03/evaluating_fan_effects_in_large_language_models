{
  "nbformat": 4,
  "nbformat_minor": 0,
  "metadata": {
    "colab": {
      "provenance": [],
      "gpuType": "T4",
      "authorship_tag": "ABX9TyOpj18suoMw8jWt4ezJdV3M",
      "include_colab_link": true
    },
    "kernelspec": {
      "name": "python3",
      "display_name": "Python 3"
    },
    "language_info": {
      "name": "python"
    },
    "accelerator": "GPU"
  },
  "cells": [
    {
      "cell_type": "markdown",
      "metadata": {
        "id": "view-in-github",
        "colab_type": "text"
      },
      "source": [
        "<a href=\"https://colab.research.google.com/github/thaopham03/evaluating_fan_effects_in_large_language_models/blob/main/fan_effects_data_analysis.ipynb\" target=\"_parent\"><img src=\"https://colab.research.google.com/assets/colab-badge.svg\" alt=\"Open In Colab\"/></a>"
      ]
    },
    {
      "cell_type": "code",
      "execution_count": 2,
      "metadata": {
        "id": "l2TNNvjRw7vb"
      },
      "outputs": [],
      "source": [
        "import pandas as pd\n",
        "import tqdm\n",
        "import warnings\n",
        "warnings.simplefilter(action='ignore', category=FutureWarning)\n",
        "from pandas._libs.lib import is_timedelta_or_timedelta64_array\n",
        "import pandas as pd\n",
        "import plotly.graph_objects as go\n",
        "# import researchpy as rp\n",
        "import numpy as np\n",
        "import ast\n",
        "import seaborn as sns\n",
        "import matplotlib.pyplot as plt"
      ]
    },
    {
      "cell_type": "code",
      "source": [
        "from google.colab import drive\n",
        "drive.mount('/content/drive')\n",
        "\n",
        "# Assume all the results file are located in this dir:\n",
        "loc = \"/content/drive/MyDrive/IGOG-Alignment-Exp/Experiments/fan-effects-exp/results/rational/\""
      ],
      "metadata": {
        "id": "rm_vjNDR3RNc",
        "outputId": "b270cc17-ca01-4fda-9ef9-7235439f39d9",
        "colab": {
          "base_uri": "https://localhost:8080/"
        }
      },
      "execution_count": 6,
      "outputs": [
        {
          "output_type": "stream",
          "name": "stdout",
          "text": [
            "Drive already mounted at /content/drive; to attempt to forcibly remount, call drive.mount(\"/content/drive\", force_remount=True).\n"
          ]
        }
      ]
    },
    {
      "cell_type": "code",
      "source": [
        "!pip install nbformat --upgrade\n",
        "!pip install seaborn --upgrade\n",
        "!pip install researchpy"
      ],
      "metadata": {
        "id": "9Nztqe6i3fze"
      },
      "execution_count": null,
      "outputs": []
    },
    {
      "cell_type": "code",
      "source": [
        "# Filter out the elements from the result:\n",
        "\n",
        "truep_t = []  # true present, typical\n",
        "truep_at = [] # true present, atypical\n",
        "falsep_t = []  # false present, typical\n",
        "falsep_at = []  # false present, atypical\n",
        "truea_t = []  # true absent, typical\n",
        "truea_at = [] # true absent, atypical\n",
        "falsea_t = []  # false absent, typical\n",
        "falsea_at = [] # false absent, atypical\n",
        "\n",
        "# List of typical members:\n",
        "typical_members = [\"robin\",\"sparrow\",\"bluejay\",\"bluebird\",\"canary\",\"blackbird\",\"dove\",\"lark\",\"swallow\",\"parakeet\",\"oriole\",\"mockingbird\",\"redbird\", \"wren\",\n",
        "                   \"finch\",\"starling\",\"cardinal\",\"eagle\",\"hummingbird\",\"seagull\",\"woodpecker\",\"pigeon\",\"thrush\",\"falcon\",\"crow\",\"hawk\",\"raven\"]\n",
        "\n",
        "# List of atypical members:\n",
        "atypical_members = [\"goldfinch\",\"parrot\",\"sandpiper\",\"pheasant\",\"catbird\",\"crane\",\"albatross\",\"condor\",\"toucan\",\"owl\",\"pelican\",\"goose\",\"vulture\",\n",
        "                    \"stork\",\"buzzard\",\"swan\",\"flamingo\",\"duck\",\"peacock\",\"egret\",\"chicken\",\"turkey\",\"ostrich\",\"titmouse\",\"emu\",\"penguin\",\"bat\"]\n",
        "\n",
        "read_stimulus = pd.read_csv(loc+'gpt2.csv',usecols=['stimulus'])\n",
        "read_item = pd.read_csv(loc+'gpt2.csv',usecols=['item'])\n",
        "read_preamble = pd.read_csv(loc+'gpt2.csv',usecols=['preamble'])\n",
        "read_mean_val = pd.read_csv(loc+'gpt2.csv',usecols=[\"score (sum, mean, [list)\"])\n",
        "print(read_stimulus)\n",
        "print(read_item)\n",
        "print(read_preamble)\n",
        "\n",
        "for i in range(len(read_item)):\n",
        "  item = read_item.at[i, 'item']\n",
        "  split_preamble = read_preamble.split(\".\")[0]\n",
        "  split_preamble = split_preamble[15:].split(\", \")\n",
        "  preamble = read_preamble[i, 'split_preamble']\n",
        "  stimulus = read_stimulus[i, 'stimulus']\n",
        "\n",
        "  if item in preamble and stimulus == \"present\":  # true present\n",
        "    if item in typical_members:\n",
        "      pass\n",
        "    elif item in atypical_members:\n",
        "      pass\n",
        "  elif item in preamble and stimulus == \"absent\": # false absent\n",
        "    if item in typical_members:\n",
        "      pass\n",
        "    elif item in atypical_members:\n",
        "      pass\n",
        "  elif item not in preamble and stimulus == \"present\": # false present\n",
        "    if item in typical_members:\n",
        "      pass\n",
        "    elif item in atypical_members:\n",
        "      pass\n",
        "  elif item not in preamble and stimulus == \"absent\": # true absent\n",
        "    if item in typical_members:\n",
        "      pass\n",
        "    elif item in atypical_members:\n",
        "      pass\n",
        "\n",
        "\n"
      ],
      "metadata": {
        "id": "2VWsk1MNgH-f",
        "outputId": "781afa5e-d7df-42bb-eb60-6ee18db5b18d",
        "colab": {
          "base_uri": "https://localhost:8080/"
        }
      },
      "execution_count": 8,
      "outputs": [
        {
          "output_type": "stream",
          "name": "stdout",
          "text": [
            "      stimulus\n",
            "0     present.\n",
            "1     present.\n",
            "2     present.\n",
            "3     present.\n",
            "4     present.\n",
            "...        ...\n",
            "2911   absent.\n",
            "2912   absent.\n",
            "2913   absent.\n",
            "2914   absent.\n",
            "2915   absent.\n",
            "\n",
            "[2916 rows x 1 columns]\n",
            "           item\n",
            "0         raven\n",
            "1     goldfinch\n",
            "2         robin\n",
            "3          swan\n",
            "4      bluebird\n",
            "...         ...\n",
            "2911        owl\n",
            "2912       lark\n",
            "2913      crane\n",
            "2914  blackbird\n",
            "2915     condor\n",
            "\n",
            "[2916 rows x 1 columns]\n",
            "                                               preamble\n",
            "0     A list includes raven, goldfinch, robin and sw...\n",
            "1     A list includes raven, goldfinch, robin and sw...\n",
            "2     A list includes raven, goldfinch, robin and sw...\n",
            "3     A list includes raven, goldfinch, robin and sw...\n",
            "4     A list includes raven, goldfinch, robin and sw...\n",
            "...                                                 ...\n",
            "2911  A list includes raven, goldfinch, robin, swan,...\n",
            "2912  A list includes raven, goldfinch, robin, swan,...\n",
            "2913  A list includes raven, goldfinch, robin, swan,...\n",
            "2914  A list includes raven, goldfinch, robin, swan,...\n",
            "2915  A list includes raven, goldfinch, robin, swan,...\n",
            "\n",
            "[2916 rows x 1 columns]\n"
          ]
        }
      ]
    }
  ]
}