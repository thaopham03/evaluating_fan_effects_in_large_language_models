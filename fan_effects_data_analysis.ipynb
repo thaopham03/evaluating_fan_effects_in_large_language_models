{
  "nbformat": 4,
  "nbformat_minor": 0,
  "metadata": {
    "colab": {
      "provenance": [],
      "authorship_tag": "ABX9TyNBPnFqQv+PBrK9lrdsbD0Y",
      "include_colab_link": true
    },
    "kernelspec": {
      "name": "python3",
      "display_name": "Python 3"
    },
    "language_info": {
      "name": "python"
    }
  },
  "cells": [
    {
      "cell_type": "markdown",
      "metadata": {
        "id": "view-in-github",
        "colab_type": "text"
      },
      "source": [
        "<a href=\"https://colab.research.google.com/github/thaopham03/evaluating_fan_effects_in_large_language_models/blob/main/fan_effects_data_analysis.ipynb\" target=\"_parent\"><img src=\"https://colab.research.google.com/assets/colab-badge.svg\" alt=\"Open In Colab\"/></a>"
      ]
    },
    {
      "cell_type": "code",
      "execution_count": 1,
      "metadata": {
        "id": "l2TNNvjRw7vb"
      },
      "outputs": [],
      "source": [
        "import pandas as pd\n",
        "from tqdm import tqdm\n",
        "from pathlib import Path\n",
        "import warnings\n",
        "\n",
        "import pandas as pd\n",
        "import numpy as np\n",
        "import ast\n",
        "\n",
        "from scipy.stats import spearmanr, pearsonr\n",
        "\n",
        "import seaborn as sns\n",
        "from matplotlib import pyplot as plt"
      ]
    },
    {
      "cell_type": "code",
      "source": [
        "from google.colab import drive\n",
        "drive.mount('/content/drive')"
      ],
      "metadata": {
        "id": "rm_vjNDR3RNc",
        "colab": {
          "base_uri": "https://localhost:8080/"
        },
        "outputId": "2c12b35f-c74e-4758-d52a-8ad1a2210152"
      },
      "execution_count": 2,
      "outputs": [
        {
          "output_type": "stream",
          "name": "stdout",
          "text": [
            "Drive already mounted at /content/drive; to attempt to forcibly remount, call drive.mount(\"/content/drive\", force_remount=True).\n"
          ]
        }
      ]
    },
    {
      "cell_type": "code",
      "source": [
        "def filtering(file_name):\n",
        "\n",
        "  # Assume all the results file are located in this dir:\n",
        "  loc = \"/content/drive/MyDrive/IGOG-Alignment-Exp/Experiments/fan-effects-exp/results/rational/\"\n",
        "\n",
        "# Filter out the elements from the result:\n",
        "\n",
        "  truep_t = []  # true present, typical\n",
        "  truep_at = [] # true present, atypical\n",
        "  falsep_t = []  # false present, typical\n",
        "  falsep_at = []  # false present, atypical\n",
        "  truea_t = []  # true absent, typical\n",
        "  truea_at = [] # true absent, atypical\n",
        "  falsea_t = []  # false absent, typical\n",
        "  falsea_at = [] # false absent, atypical\n",
        "\n",
        "  # List of typical members:\n",
        "  typical_members = [\"robin\",\"sparrow\",\"bluejay\",\"bluebird\",\"canary\",\"blackbird\",\"dove\",\"lark\",\"swallow\",\"parakeet\",\"oriole\",\"mockingbird\",\"redbird\", \"wren\",\n",
        "                    \"finch\",\"starling\",\"cardinal\",\"eagle\",\"hummingbird\",\"seagull\",\"woodpecker\",\"pigeon\",\"thrush\",\"falcon\",\"crow\",\"hawk\",\"raven\"]\n",
        "\n",
        "  # List of atypical members:\n",
        "  atypical_members = [\"goldfinch\",\"parrot\",\"sandpiper\",\"pheasant\",\"catbird\",\"crane\",\"albatross\",\"condor\",\"toucan\",\"owl\",\"pelican\",\"goose\",\"vulture\",\n",
        "                      \"stork\",\"buzzard\",\"swan\",\"flamingo\",\"duck\",\"peacock\",\"egret\",\"chicken\",\"turkey\",\"ostrich\",\"titmouse\",\"emu\",\"penguin\",\"bat\"]\n",
        "\n",
        "  # Read the csv file:\n",
        "  read_stimulus = pd.read_csv(loc+file_name,usecols=['stimulus'])\n",
        "  read_item = pd.read_csv(loc+file_name,usecols=['item'])\n",
        "  read_preamble = pd.read_csv(loc+file_name,usecols=['preamble'])\n",
        "  read_score_val = pd.read_csv(loc+file_name,usecols=[\"score (sum, mean, [list)\"])\n",
        "\n",
        "  # Split preamble into a list of just only items\n",
        "  read_preamble['split_preamble'] = read_preamble['preamble'].apply(lambda x: x.split(\".\")[0][15:].split(\", \"))\n",
        "\n",
        "  for i in range(len(read_item)):\n",
        "    item = read_item.at[i, 'item']\n",
        "    # split_preamble = read_preamble['preamble'].apply(lambda x: x.split(\".\")[0][15:].split(\", \"))\n",
        "    # split_preamble = split_preamble[15:].split(\", \")\n",
        "    split_preamble = read_preamble.at[i, 'split_preamble']\n",
        "    # preamble = read_preamble[i, 'split_preamble']\n",
        "    stimulus = read_stimulus.at[i, 'stimulus']\n",
        "    score_val = read_score_val.at[i, \"score (sum, mean, [list)\"]\n",
        "\n",
        "    if isinstance(score_val, str):\n",
        "      # Extracting the mean value from the score string\n",
        "      score_val = score_val.strip('[]()').split(',')[1].strip()\n",
        "      score_val = float(score_val)\n",
        "\n",
        "    if item in split_preamble and stimulus == \"present.\":  # true present\n",
        "      if item in typical_members:\n",
        "        truep_t.append(score_val)\n",
        "      elif item in atypical_members:\n",
        "        truep_at.append(score_val)\n",
        "    elif item in split_preamble and stimulus == \"absent.\": # false absent\n",
        "      if item in typical_members:\n",
        "        falsea_t.append(score_val)\n",
        "      elif item in atypical_members:\n",
        "        falsea_at.append(score_val)\n",
        "    elif item not in split_preamble and stimulus == \"present.\": # false present\n",
        "      if item in typical_members:\n",
        "        falsep_t.append(score_val)\n",
        "      elif item in atypical_members:\n",
        "        falsep_at.append(score_val)\n",
        "    elif item not in split_preamble and stimulus == \"absent.\": # true absent\n",
        "      if item in typical_members:\n",
        "        truea_t.append(score_val)\n",
        "      elif item in atypical_members:\n",
        "        truea_at.append(score_val)\n",
        "  # Visualization\n",
        "\n",
        "  # Create a dictionary to store the lists\n",
        "  map_df = {\n",
        "      'true_p_typical': truep_t,\n",
        "      'true_p_atypical': truep_at,\n",
        "      'false_p_typical': falsep_t,\n",
        "      'false_p_atypical': falsep_at,\n",
        "      'true_a_typical': truea_t,\n",
        "      'true_a_atypical': truea_at,\n",
        "      'false_a_typical': falsea_t,\n",
        "      'false_a_atypical': falsea_at\n",
        "  }\n",
        "\n",
        "  # Check the lengths of all lists\n",
        "  list_lengths = [len(lst) for lst in map_df.values()]\n",
        "\n",
        "  # Ensure all lengths are equal\n",
        "  max_length = max(list_lengths)\n",
        "  for lst in [truep_t, truep_at, falsep_t, falsep_at, truea_t, truea_at, falsea_t, falsea_at]:\n",
        "      if len(lst) < max_length:\n",
        "          # Fill missing values with NaN\n",
        "          lst += [np.nan] * (max_length - len(lst))\n",
        "\n",
        "\n",
        "  # Convert the dictionary to a DataFrame\n",
        "  df = pd.DataFrame(map_df)\n",
        "  print(df)\n"
      ],
      "metadata": {
        "id": "2VWsk1MNgH-f"
      },
      "execution_count": null,
      "outputs": []
    },
    {
      "cell_type": "code",
      "source": [
        "def main():\n",
        "  print(\"Mistral\")\n",
        "  filtering('mistralai_Mistral-7B-v0.1.csv')\n",
        "  print(\"Llama-2\")\n",
        "  filtering('meta-llama_Llama-2-7b-hf.csv')\n",
        "  print(\"Llama-3\")\n",
        "  filtering('meta-llama_Meta-Llama-3-8B.csv')\n",
        "\n",
        "if __name__ == \"__main__\":\n",
        "  main()"
      ],
      "metadata": {
        "colab": {
          "base_uri": "https://localhost:8080/"
        },
        "id": "jB5h76m4kCsA",
        "outputId": "7e118b4c-d89a-4d6b-cb6b-31208a36a073"
      },
      "execution_count": null,
      "outputs": [
        {
          "output_type": "stream",
          "name": "stdout",
          "text": [
            "Mistral\n",
            "     true_p_typical  true_p_atypical  false_p_typical  false_p_atypical  \\\n",
            "0         -9.099177        -3.295715        -9.209574         -9.275753   \n",
            "1         -8.862229        -3.891313        -8.461470         -8.345871   \n",
            "2         -9.323246        -8.800889        -8.458887         -9.848536   \n",
            "3        -10.051567        -7.738414        -8.897091         -9.486038   \n",
            "4         -9.397378        -9.446735        -7.753295         -8.804101   \n",
            "..              ...              ...              ...               ...   \n",
            "398             NaN              NaN        -8.450175               NaN   \n",
            "399             NaN              NaN        -9.474573               NaN   \n",
            "400             NaN              NaN        -7.604613               NaN   \n",
            "401             NaN              NaN       -10.382090               NaN   \n",
            "402             NaN              NaN        -9.142367               NaN   \n",
            "\n",
            "     true_a_typical  true_a_atypical  false_a_typical  false_a_atypical  \n",
            "0        -10.124681        -9.291286       -10.254365         -4.903983  \n",
            "1        -10.806415        -8.873212        -9.742514         -4.132584  \n",
            "2         -8.511209        -8.783724       -10.617372         -8.570434  \n",
            "3         -8.845812        -7.485436       -10.125923         -4.813241  \n",
            "4         -8.465866        -8.923815       -10.316401         -9.191698  \n",
            "..              ...              ...              ...               ...  \n",
            "398       -8.044329              NaN              NaN               NaN  \n",
            "399      -10.111319              NaN              NaN               NaN  \n",
            "400       -9.094070              NaN              NaN               NaN  \n",
            "401      -10.078512              NaN              NaN               NaN  \n",
            "402       -9.084723              NaN              NaN               NaN  \n",
            "\n",
            "[403 rows x 8 columns]\n",
            "Llama-2\n",
            "     true_p_typical  true_p_atypical  false_p_typical  false_p_atypical  \\\n",
            "0         -3.105361        -2.971195        -4.264892         -2.790167   \n",
            "1         -3.554093        -3.763555        -3.363866         -3.161967   \n",
            "2         -4.177814        -2.919127        -3.531226         -2.900464   \n",
            "3         -3.731156        -3.944731        -3.681390         -3.024206   \n",
            "4         -3.211723        -3.794254        -3.678535         -3.235707   \n",
            "..              ...              ...              ...               ...   \n",
            "398             NaN              NaN        -4.720099               NaN   \n",
            "399             NaN              NaN        -3.573083               NaN   \n",
            "400             NaN              NaN        -3.885126               NaN   \n",
            "401             NaN              NaN        -3.764012               NaN   \n",
            "402             NaN              NaN        -2.938670               NaN   \n",
            "\n",
            "     true_a_typical  true_a_atypical  false_a_typical  false_a_atypical  \n",
            "0         -2.777440        -3.975739        -2.914798         -3.847813  \n",
            "1         -3.569516        -1.850572        -3.453352         -4.110501  \n",
            "2         -2.380604        -2.539073        -4.507134         -3.411344  \n",
            "3         -3.306644        -3.025345        -3.137074         -3.866789  \n",
            "4         -2.475554        -3.515750        -4.033030         -4.284968  \n",
            "..              ...              ...              ...               ...  \n",
            "398       -3.453805              NaN              NaN               NaN  \n",
            "399       -4.313003              NaN              NaN               NaN  \n",
            "400             NaN              NaN              NaN               NaN  \n",
            "401       -3.875625              NaN              NaN               NaN  \n",
            "402       -4.578992              NaN              NaN               NaN  \n",
            "\n",
            "[403 rows x 8 columns]\n",
            "Llama-3\n",
            "     true_p_typical  true_p_atypical  false_p_typical  false_p_atypical  \\\n",
            "0         -4.046040        -4.261001        -3.623718         -4.272047   \n",
            "1         -3.505323        -3.530377        -4.838032         -3.763396   \n",
            "2         -3.963573        -4.000645        -2.857119         -3.414619   \n",
            "3         -4.888213        -4.680981        -4.208851         -3.287338   \n",
            "4         -3.929367        -4.018771        -3.500946         -2.731446   \n",
            "..              ...              ...              ...               ...   \n",
            "398             NaN              NaN        -3.982691               NaN   \n",
            "399             NaN              NaN        -4.119071               NaN   \n",
            "400             NaN              NaN        -3.375888               NaN   \n",
            "401             NaN              NaN        -4.477157               NaN   \n",
            "402             NaN              NaN        -4.231842               NaN   \n",
            "\n",
            "     true_a_typical  true_a_atypical  false_a_typical  false_a_atypical  \n",
            "0         -3.225016        -4.260798        -5.493647         -4.513700  \n",
            "1         -3.370933        -2.613835        -4.346255         -3.779163  \n",
            "2         -3.236551        -3.079465        -3.989468         -4.073149  \n",
            "3         -4.326294        -3.727324        -4.686756         -4.027679  \n",
            "4         -3.151791        -2.447133        -5.007531         -3.984116  \n",
            "..              ...              ...              ...               ...  \n",
            "398       -5.039498              NaN              NaN               NaN  \n",
            "399       -4.692276              NaN              NaN               NaN  \n",
            "400       -4.429085              NaN              NaN               NaN  \n",
            "401       -4.935886              NaN              NaN               NaN  \n",
            "402       -4.540736              NaN              NaN               NaN  \n",
            "\n",
            "[403 rows x 8 columns]\n"
          ]
        }
      ]
    },
    {
      "cell_type": "code",
      "source": [
        "def load_data(data_file, drop_cols=[''], convert_prob=True):\n",
        "  data = pd.read_csv(data_file)\n",
        "\n",
        "  try:\n",
        "      data[\"score (sum, mean, [list)\"] = [[t[1] for t in m] for m in data[\"score (sum, mean, [list)\"].apply(ast.literal_eval)]\n",
        "  except ValueError as e:\n",
        "      for m in data[\"score (sum, mean, [list)\"]:\n",
        "          print(m)\n",
        "      print(data[\"score (sum, mean, [list)\"])\n",
        "      return None\n",
        "\n",
        "  if convert_prob:\n",
        "      data[\"score (sum, mean, [list)\"] = [[(2 ** t) for t in m] for m in data[\"score (sum, mean, [list)\"]]\n",
        "\n",
        "  return pd.DataFrame(data)\n",
        "\n",
        "# load_data('/content/drive/MyDrive/IGOG-Alignment-Exp/Experiments/fan-effects-exp/results/rational/mistralai_Mistral-7B-v0.1.csv', convert_prob=True)"
      ],
      "metadata": {
        "id": "_HbvFwdc0Btr"
      },
      "execution_count": 3,
      "outputs": []
    },
    {
      "cell_type": "code",
      "source": [
        "def split_confusion_matrix(df):\n",
        "    test_pos = df.loc[(df['Stimulus'] == 'present.')]\n",
        "    test_neg = df.loc[(df['Stimulus'] == 'absent.')]\n",
        "\n",
        "    # df['presentInContext'] = df.apply(\n",
        "    #   lambda row: row['preamble'].count(row['item'])>1, # returns true if the item is in the context\n",
        "    #   axis=1)\n",
        "\n",
        "    true_neg  = test_neg.loc[(test_neg['True_Category'] ==  'absent')].reset_index()\n",
        "    false_pos = test_pos.loc[(test_pos['True_Category'] ==  'absent')].reset_index()\n",
        "    false_neg = test_neg.loc[(test_neg['True_Category'] == 'present')].reset_index()\n",
        "    true_pos  = test_pos.loc[(test_pos['True_Category'] == 'present')].reset_index()\n",
        "\n",
        "    # Decided to return in the same order expected from sklearn confusion_matrix function\n",
        "    return true_neg, false_pos, false_neg, true_pos"
      ],
      "metadata": {
        "id": "3l7PSBvQtAnU"
      },
      "execution_count": 4,
      "outputs": []
    },
    {
      "cell_type": "code",
      "source": [
        "# def split_confusion_matrix(df):\n",
        "#   test_pos = df.loc[(df['stimulus'] == 'present.')]\n",
        "#   test_neg = df.loc[(df['stimulus'] == 'absent.')]\n",
        "#   # print(test_pos)\n",
        "#   # print(test_neg)\n",
        "\n",
        "#   # Initialize empty DataFrames for the confusion matrix components\n",
        "#   true_pos = pd.DataFrame(columns=df.columns)\n",
        "#   false_pos = pd.DataFrame(columns=df.columns)\n",
        "#   true_neg = pd.DataFrame(columns=df.columns)\n",
        "#   false_neg = pd.DataFrame(columns=df.columns)\n",
        "\n",
        "#   # Check if item is true_pos or false_pos in test_pos:\n",
        "#   for i, row in test_pos.iterrows():\n",
        "#     preamble_items = row['preamble'].split(\".\")[0][15:].split(\", \")\n",
        "#     if row['item'] in preamble_items:\n",
        "#       true_pos = pd.concat([true_pos, pd.DataFrame([row])], ignore_index=True)\n",
        "#     else:\n",
        "#       false_pos = pd.concat([false_pos, pd.DataFrame([row])], ignore_index=True)\n",
        "\n",
        "#   # Check if item is true_neg or false_neg in test_neg:\n",
        "#   for i, row in test_neg.iterrows():\n",
        "#     preamble_items = row['preamble'].split(\".\")[0][15:].split(\", \")\n",
        "#     if row['item'] in preamble_items:\n",
        "#         true_neg = pd.concat([true_neg, pd.DataFrame([row])], ignore_index=True)\n",
        "#     else:\n",
        "#         false_neg = pd.concat([false_neg, pd.DataFrame([row])], ignore_index=True)\n",
        "\n",
        "#   # Reset index for all DataFrames\n",
        "#   true_pos = true_pos.reset_index(drop=True)\n",
        "#   false_pos = false_pos.reset_index(drop=True)\n",
        "#   true_neg = true_neg.reset_index(drop=True)\n",
        "#   false_neg = false_neg.reset_index(drop=True)\n",
        "\n",
        "#   # read_preamble['split_preamble'] = read_preamble['preamble'].apply(lambda x: x.split(\".\")[0][15:].split(\", \"))\n",
        "\n",
        "\n",
        "#   # true_neg  = test_neg.loc[(test_neg['True_Category'] ==  'absent.')].reset_index()\n",
        "#   # false_pos = test_pos.loc[(test_pos['True_Category'] ==  'absent.')].reset_index()\n",
        "#   # false_neg = test_neg.loc[(test_neg['True_Category'] == 'present.')].reset_index()\n",
        "#   # true_pos  = test_pos.loc[(test_pos['True_Category'] == 'present.')].reset_index()\n",
        "\n",
        "#   # Decided to return in the same order expected from sklearn confusion_matrix function\n",
        "#   return true_neg, false_pos, false_neg, true_pos\n",
        "\n",
        "#   \"\"\"\n",
        "#   # Jesse's code to check if the member is in the context:\n",
        "#   df['presentInContext'] = df.apply(\n",
        "#       lambda row: row['preamble'].count(row['item'])>1, # returns true if the item is in the context\n",
        "#       axis=1)\n",
        "#   \"\"\"\n",
        "# # rand_mist = load_data('/content/drive/MyDrive/IGOG-Alignment-Exp/Experiments/fan-effects-exp/results/rational/mistralai_Mistral-7B-v0.1.csv', convert_prob=True)\n",
        "# # split_confusion_matrix(rand_mist)"
      ],
      "metadata": {
        "id": "KlhmfQzQ1b0q"
      },
      "execution_count": null,
      "outputs": []
    },
    {
      "cell_type": "code",
      "source": [
        "def confusion_scatter(df, fan_type = 'both', aggregate='none'):\n",
        "  if fan_type == 'both':\n",
        "      fan = lambda a, b : (a*a + b*b)**(1/2)\n",
        "  elif fan_type == 'first':\n",
        "      fan = lambda a, b : a\n",
        "  elif fan_type == 'second':\n",
        "      fan = lambda a, b : b\n",
        "\n",
        "  def fill_subplot(ax, df_part : pd.DataFrame, lab):\n",
        "      x = []   # typicality rank\n",
        "      y = []   # probs\n",
        "\n",
        "      for _, row in df_part.iterrows():\n",
        "        fan_per = row['Rank']\n",
        "        # fan_pla = row['Fan_Place']\n",
        "        probs = row[\"score (sum, mean, [list)\"]\n",
        "\n",
        "        # if np.mean(probs) > 0.02:\n",
        "        #   continue\n",
        "\n",
        "        if aggregate == 'none':\n",
        "          x = x + [fan_per] * len(probs)\n",
        "          y = y + probs\n",
        "        elif aggregate == 'mean':\n",
        "          x = x + [fan_per]\n",
        "          y = y + [np.mean(probs)]\n",
        "        elif aggregate == 'std':\n",
        "          x = x + [fan_per]\n",
        "          y = y + [np.std(probs)]\n",
        "\n",
        "      # temp = [(i, j) for i, j in zip(x, y) if j <= 0.02]\n",
        "      # x = [i[0] for i in temp]\n",
        "      # y = [i[1] for i in temp]\n",
        "\n",
        "      x, y = np.asarray(x), np.asarray(y)\n",
        "\n",
        "      m, b = np.polyfit(x, y, 1)\n",
        "\n",
        "\n",
        "      z = pearsonr(x, y)\n",
        "      r = z.statistic\n",
        "      p = z.pvalue\n",
        "\n",
        "      ax.scatter(x,y, color=(0,0,0,0.5))\n",
        "\n",
        "      # bins = dict()\n",
        "      # for x_i, y_i in zip(x,y):\n",
        "      #   try:\n",
        "      #       bins[x_i].append(y_i)\n",
        "      #   except KeyError:\n",
        "      #       bins[x_i] = [y_i]\n",
        "\n",
        "      # sorted_x = list(sorted(list(set(x))))\n",
        "      # new_y = [bins[k] for k in sorted_x]\n",
        "\n",
        "\n",
        "      # ax.violinplot(new_y, [50 * k for k in sorted_x])\n",
        "\n",
        "      ax.plot(x, m*x + b, color='red')\n",
        "      ax.text(0.01,0.01, f'r={r:.3f}, p={p:.3f} g={lab}', color='red', transform=ax.transAxes)\n",
        "\n",
        "  tn, fp, fn, tp = split_confusion_matrix(df)\n",
        "\n",
        "  fig, axes = plt.subplots(nrows = 2, ncols = 2, figsize=(7,7))\n",
        "\n",
        "  fill_subplot(axes[0][0], tp, 'tp')\n",
        "  fill_subplot(axes[0][1], fn, 'fn')\n",
        "  fill_subplot(axes[1][0], fp, 'fp')\n",
        "  fill_subplot(axes[1][1], tn, 'tn')\n",
        "\n",
        "  plt.show()\n"
      ],
      "metadata": {
        "id": "hO3CN9vs1ewp"
      },
      "execution_count": 5,
      "outputs": []
    },
    {
      "cell_type": "code",
      "source": [
        "rand_mist = load_data('/content/drive/MyDrive/IGOG-Alignment-Exp/Experiments/fan-effects-exp/results/rational/mistralai_Mistral-7B-v0.1.csv', convert_prob=True)\n",
        "# print(rand_mist)"
      ],
      "metadata": {
        "id": "VqHzGf-s2OIQ"
      },
      "execution_count": 7,
      "outputs": []
    },
    {
      "cell_type": "code",
      "source": [
        "confusion_scatter(rand_mist, fan_type='both', aggregate='std')\n",
        "confusion_scatter(rand_mist, fan_type='first', aggregate='mean')\n",
        "confusion_scatter(rand_mist, fan_type='second', aggregate='none')"
      ],
      "metadata": {
        "colab": {
          "base_uri": "https://localhost:8080/",
          "height": 909
        },
        "id": "mnzszs8F2RCy",
        "outputId": "a530f1a9-89dd-4a52-89cb-02e06e6b9673"
      },
      "execution_count": 8,
      "outputs": [
        {
          "output_type": "error",
          "ename": "TypeError",
          "evalue": "expected non-empty vector for x",
          "traceback": [
            "\u001b[0;31m---------------------------------------------------------------------------\u001b[0m",
            "\u001b[0;31mTypeError\u001b[0m                                 Traceback (most recent call last)",
            "\u001b[0;32m<ipython-input-8-ac0e9969eb8f>\u001b[0m in \u001b[0;36m<cell line: 1>\u001b[0;34m()\u001b[0m\n\u001b[0;32m----> 1\u001b[0;31m \u001b[0mconfusion_scatter\u001b[0m\u001b[0;34m(\u001b[0m\u001b[0mrand_mist\u001b[0m\u001b[0;34m,\u001b[0m \u001b[0mfan_type\u001b[0m\u001b[0;34m=\u001b[0m\u001b[0;34m'both'\u001b[0m\u001b[0;34m,\u001b[0m \u001b[0maggregate\u001b[0m\u001b[0;34m=\u001b[0m\u001b[0;34m'std'\u001b[0m\u001b[0;34m)\u001b[0m\u001b[0;34m\u001b[0m\u001b[0;34m\u001b[0m\u001b[0m\n\u001b[0m\u001b[1;32m      2\u001b[0m \u001b[0mconfusion_scatter\u001b[0m\u001b[0;34m(\u001b[0m\u001b[0mrand_mist\u001b[0m\u001b[0;34m,\u001b[0m \u001b[0mfan_type\u001b[0m\u001b[0;34m=\u001b[0m\u001b[0;34m'first'\u001b[0m\u001b[0;34m,\u001b[0m \u001b[0maggregate\u001b[0m\u001b[0;34m=\u001b[0m\u001b[0;34m'mean'\u001b[0m\u001b[0;34m)\u001b[0m\u001b[0;34m\u001b[0m\u001b[0;34m\u001b[0m\u001b[0m\n\u001b[1;32m      3\u001b[0m \u001b[0mconfusion_scatter\u001b[0m\u001b[0;34m(\u001b[0m\u001b[0mrand_mist\u001b[0m\u001b[0;34m,\u001b[0m \u001b[0mfan_type\u001b[0m\u001b[0;34m=\u001b[0m\u001b[0;34m'second'\u001b[0m\u001b[0;34m,\u001b[0m \u001b[0maggregate\u001b[0m\u001b[0;34m=\u001b[0m\u001b[0;34m'none'\u001b[0m\u001b[0;34m)\u001b[0m\u001b[0;34m\u001b[0m\u001b[0;34m\u001b[0m\u001b[0m\n",
            "\u001b[0;32m<ipython-input-5-149023796468>\u001b[0m in \u001b[0;36mconfusion_scatter\u001b[0;34m(df, fan_type, aggregate)\u001b[0m\n\u001b[1;32m     64\u001b[0m   \u001b[0mfig\u001b[0m\u001b[0;34m,\u001b[0m \u001b[0maxes\u001b[0m \u001b[0;34m=\u001b[0m \u001b[0mplt\u001b[0m\u001b[0;34m.\u001b[0m\u001b[0msubplots\u001b[0m\u001b[0;34m(\u001b[0m\u001b[0mnrows\u001b[0m \u001b[0;34m=\u001b[0m \u001b[0;36m2\u001b[0m\u001b[0;34m,\u001b[0m \u001b[0mncols\u001b[0m \u001b[0;34m=\u001b[0m \u001b[0;36m2\u001b[0m\u001b[0;34m,\u001b[0m \u001b[0mfigsize\u001b[0m\u001b[0;34m=\u001b[0m\u001b[0;34m(\u001b[0m\u001b[0;36m7\u001b[0m\u001b[0;34m,\u001b[0m\u001b[0;36m7\u001b[0m\u001b[0;34m)\u001b[0m\u001b[0;34m)\u001b[0m\u001b[0;34m\u001b[0m\u001b[0;34m\u001b[0m\u001b[0m\n\u001b[1;32m     65\u001b[0m \u001b[0;34m\u001b[0m\u001b[0m\n\u001b[0;32m---> 66\u001b[0;31m   \u001b[0mfill_subplot\u001b[0m\u001b[0;34m(\u001b[0m\u001b[0maxes\u001b[0m\u001b[0;34m[\u001b[0m\u001b[0;36m0\u001b[0m\u001b[0;34m]\u001b[0m\u001b[0;34m[\u001b[0m\u001b[0;36m0\u001b[0m\u001b[0;34m]\u001b[0m\u001b[0;34m,\u001b[0m \u001b[0mtp\u001b[0m\u001b[0;34m,\u001b[0m \u001b[0;34m'tp'\u001b[0m\u001b[0;34m)\u001b[0m\u001b[0;34m\u001b[0m\u001b[0;34m\u001b[0m\u001b[0m\n\u001b[0m\u001b[1;32m     67\u001b[0m   \u001b[0mfill_subplot\u001b[0m\u001b[0;34m(\u001b[0m\u001b[0maxes\u001b[0m\u001b[0;34m[\u001b[0m\u001b[0;36m0\u001b[0m\u001b[0;34m]\u001b[0m\u001b[0;34m[\u001b[0m\u001b[0;36m1\u001b[0m\u001b[0;34m]\u001b[0m\u001b[0;34m,\u001b[0m \u001b[0mfn\u001b[0m\u001b[0;34m,\u001b[0m \u001b[0;34m'fn'\u001b[0m\u001b[0;34m)\u001b[0m\u001b[0;34m\u001b[0m\u001b[0;34m\u001b[0m\u001b[0m\n\u001b[1;32m     68\u001b[0m   \u001b[0mfill_subplot\u001b[0m\u001b[0;34m(\u001b[0m\u001b[0maxes\u001b[0m\u001b[0;34m[\u001b[0m\u001b[0;36m1\u001b[0m\u001b[0;34m]\u001b[0m\u001b[0;34m[\u001b[0m\u001b[0;36m0\u001b[0m\u001b[0;34m]\u001b[0m\u001b[0;34m,\u001b[0m \u001b[0mfp\u001b[0m\u001b[0;34m,\u001b[0m \u001b[0;34m'fp'\u001b[0m\u001b[0;34m)\u001b[0m\u001b[0;34m\u001b[0m\u001b[0;34m\u001b[0m\u001b[0m\n",
            "\u001b[0;32m<ipython-input-5-149023796468>\u001b[0m in \u001b[0;36mfill_subplot\u001b[0;34m(ax, df_part, lab)\u001b[0m\n\u001b[1;32m     35\u001b[0m       \u001b[0mx\u001b[0m\u001b[0;34m,\u001b[0m \u001b[0my\u001b[0m \u001b[0;34m=\u001b[0m \u001b[0mnp\u001b[0m\u001b[0;34m.\u001b[0m\u001b[0masarray\u001b[0m\u001b[0;34m(\u001b[0m\u001b[0mx\u001b[0m\u001b[0;34m)\u001b[0m\u001b[0;34m,\u001b[0m \u001b[0mnp\u001b[0m\u001b[0;34m.\u001b[0m\u001b[0masarray\u001b[0m\u001b[0;34m(\u001b[0m\u001b[0my\u001b[0m\u001b[0;34m)\u001b[0m\u001b[0;34m\u001b[0m\u001b[0;34m\u001b[0m\u001b[0m\n\u001b[1;32m     36\u001b[0m \u001b[0;34m\u001b[0m\u001b[0m\n\u001b[0;32m---> 37\u001b[0;31m       \u001b[0mm\u001b[0m\u001b[0;34m,\u001b[0m \u001b[0mb\u001b[0m \u001b[0;34m=\u001b[0m \u001b[0mnp\u001b[0m\u001b[0;34m.\u001b[0m\u001b[0mpolyfit\u001b[0m\u001b[0;34m(\u001b[0m\u001b[0mx\u001b[0m\u001b[0;34m,\u001b[0m \u001b[0my\u001b[0m\u001b[0;34m,\u001b[0m \u001b[0;36m1\u001b[0m\u001b[0;34m)\u001b[0m\u001b[0;34m\u001b[0m\u001b[0;34m\u001b[0m\u001b[0m\n\u001b[0m\u001b[1;32m     38\u001b[0m \u001b[0;34m\u001b[0m\u001b[0m\n\u001b[1;32m     39\u001b[0m \u001b[0;34m\u001b[0m\u001b[0m\n",
            "\u001b[0;32m/usr/local/lib/python3.10/dist-packages/numpy/lib/polynomial.py\u001b[0m in \u001b[0;36mpolyfit\u001b[0;34m(x, y, deg, rcond, full, w, cov)\u001b[0m\n\u001b[1;32m    637\u001b[0m         \u001b[0;32mraise\u001b[0m \u001b[0mTypeError\u001b[0m\u001b[0;34m(\u001b[0m\u001b[0;34m\"expected 1D vector for x\"\u001b[0m\u001b[0;34m)\u001b[0m\u001b[0;34m\u001b[0m\u001b[0;34m\u001b[0m\u001b[0m\n\u001b[1;32m    638\u001b[0m     \u001b[0;32mif\u001b[0m \u001b[0mx\u001b[0m\u001b[0;34m.\u001b[0m\u001b[0msize\u001b[0m \u001b[0;34m==\u001b[0m \u001b[0;36m0\u001b[0m\u001b[0;34m:\u001b[0m\u001b[0;34m\u001b[0m\u001b[0;34m\u001b[0m\u001b[0m\n\u001b[0;32m--> 639\u001b[0;31m         \u001b[0;32mraise\u001b[0m \u001b[0mTypeError\u001b[0m\u001b[0;34m(\u001b[0m\u001b[0;34m\"expected non-empty vector for x\"\u001b[0m\u001b[0;34m)\u001b[0m\u001b[0;34m\u001b[0m\u001b[0;34m\u001b[0m\u001b[0m\n\u001b[0m\u001b[1;32m    640\u001b[0m     \u001b[0;32mif\u001b[0m \u001b[0my\u001b[0m\u001b[0;34m.\u001b[0m\u001b[0mndim\u001b[0m \u001b[0;34m<\u001b[0m \u001b[0;36m1\u001b[0m \u001b[0;32mor\u001b[0m \u001b[0my\u001b[0m\u001b[0;34m.\u001b[0m\u001b[0mndim\u001b[0m \u001b[0;34m>\u001b[0m \u001b[0;36m2\u001b[0m\u001b[0;34m:\u001b[0m\u001b[0;34m\u001b[0m\u001b[0;34m\u001b[0m\u001b[0m\n\u001b[1;32m    641\u001b[0m         \u001b[0;32mraise\u001b[0m \u001b[0mTypeError\u001b[0m\u001b[0;34m(\u001b[0m\u001b[0;34m\"expected 1D or 2D array for y\"\u001b[0m\u001b[0;34m)\u001b[0m\u001b[0;34m\u001b[0m\u001b[0;34m\u001b[0m\u001b[0m\n",
            "\u001b[0;31mTypeError\u001b[0m: expected non-empty vector for x"
          ]
        },
        {
          "output_type": "display_data",
          "data": {
            "text/plain": [
              "<Figure size 700x700 with 4 Axes>"
            ],
            "image/png": "[encoded data removed]"
          },
          "metadata": {}
        }
      ]
    }
  ]
}